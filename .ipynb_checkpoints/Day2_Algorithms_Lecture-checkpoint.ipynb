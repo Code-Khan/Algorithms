{
 "cells": [
  {
   "cell_type": "markdown",
   "metadata": {},
   "source": [
    "# Classic Algorithms"
   ]
  },
  {
   "cell_type": "markdown",
   "metadata": {},
   "source": [
    "## Tasks Today:\n",
    " \n",
    "1) <b>In-Place Algorithms</b> <br>\n",
    " &nbsp;&nbsp;&nbsp;&nbsp; a) Syntax <br>\n",
    " &nbsp;&nbsp;&nbsp;&nbsp; a) Out of Place Algorithm <br>\n",
    " &nbsp;&nbsp;&nbsp;&nbsp; b) In-Class Exercise #1 <br>\n",
    "2) <b>Two Pointers</b> <br>\n",
    "3) <b>Sorting Algorithms</b> <br>\n",
    "4) <b>Merge Sort</b> <br>\n",
    " &nbsp;&nbsp;&nbsp;&nbsp; a) Video on Algorithms <br>\n",
    " &nbsp;&nbsp;&nbsp;&nbsp; b) How it Works <br>\n",
    "5) <b>Exercises</b> <br>\n",
    " &nbsp;&nbsp;&nbsp;&nbsp; a) Exercise #1 - Reverse a List in Place Using an In-Place Algorithm <br>\n",
    " &nbsp;&nbsp;&nbsp;&nbsp; b) Exercise #2 - Find Distinct Words <br>\n",
    " &nbsp;&nbsp;&nbsp;&nbsp; c) Exercise #3 - Write a program to implement a Linear Search Algorithm. <br>"
   ]
  },
  {
   "cell_type": "markdown",
   "metadata": {},
   "source": [
    "## In-Place Algorithms"
   ]
  },
  {
   "cell_type": "markdown",
   "metadata": {},
   "source": [
    "#### Syntax"
   ]
  },
  {
   "cell_type": "code",
   "execution_count": 1,
   "metadata": {},
   "outputs": [
    {
     "name": "stdout",
     "output_type": "stream",
     "text": [
      "1\n"
     ]
    }
   ],
   "source": [
    "# An array is just a list (FYI)\n",
    "\n",
    "c,a,b = 1,2,3\n",
    "\n",
    "print(c)"
   ]
  },
  {
   "cell_type": "code",
   "execution_count": 6,
   "metadata": {},
   "outputs": [
    {
     "name": "stdout",
     "output_type": "stream",
     "text": [
      "Before swap: [1, 5, 10]\n",
      "After swap: [5, 10, 1]\n"
     ]
    }
   ],
   "source": [
    "# var[i], var[j] = var[j], var[i]\n",
    "# Sometimes known as a swap algorithm\n",
    "\n",
    "def swap(alist, x,y,z):\n",
    "    alist[x], alist[y], alist[z]= alist[y], alist[z], alist[x]\n",
    "    return alist\n",
    "my_list = [1,5,10]\n",
    "print(f'Before swap: {my_list}')\n",
    "swap(my_list, 0,1,2)\n",
    "print(f'After swap: {my_list}')"
   ]
  },
  {
   "cell_type": "code",
   "execution_count": 4,
   "metadata": {},
   "outputs": [
    {
     "name": "stdout",
     "output_type": "stream",
     "text": [
      "[10, 5, 1]\n"
     ]
    }
   ],
   "source": [
    "my_list = [1,5,10]\n",
    "temp = my_list[0]\n",
    "my_list[0] = my_list[2]\n",
    "my_list[2] = temp\n",
    "print(my_list)\n"
   ]
  },
  {
   "cell_type": "markdown",
   "metadata": {},
   "source": [
    "#### Out of Place Algorithm"
   ]
  },
  {
   "cell_type": "code",
   "execution_count": 9,
   "metadata": {},
   "outputs": [
    {
     "name": "stdout",
     "output_type": "stream",
     "text": [
      "[5, 10, 1]\n",
      "[1, 10, 100]\n",
      "Before swap: ['a', 'b', 'c', 'd']\n",
      "After swap: ['d', 'c', 'b', '']\n"
     ]
    }
   ],
   "source": [
    "# Not swapping, but rather reversing completely\n",
    "# But also copies to another place in memory\n",
    "# Think of an algorithm as a recipe; when you eat you look for a recipe\n",
    "\n",
    "my_list_copy = my_list [::-1]\n",
    "my_list_copy[2] = 100\n",
    "\n",
    "print(my_list)\n",
    "print(my_list_copy)\n",
    "\n",
    "# Long form out of place\n",
    "list_a = ['a','b','c','d']\n",
    "new_list = [''] * len(list_a)\n",
    "\n",
    "print(f'Before swap: {list_a}')\n",
    "\n",
    "length = len(list_a) - 1\n",
    "\n",
    "for i in range(length):\n",
    "    new_list[i] = (list_a[length-i])\n",
    "    \n",
    "list_a = new_list\n",
    "print(f'After swap: {list_a}')\n",
    "    \n",
    "    \n",
    "    "
   ]
  },
  {
   "cell_type": "markdown",
   "metadata": {},
   "source": [
    "#### In-Class Exercise #1 <br>\n",
    "<p>Write a function that takes in four arguments (list, index1, index2, index3), and swaps those three positions in the list passed in.</p>"
   ]
  },
  {
   "cell_type": "code",
   "execution_count": 11,
   "metadata": {},
   "outputs": [
    {
     "data": {
      "text/plain": [
       "[3, 10, 4, 8, 4, 2, 6]"
      ]
     },
     "execution_count": 11,
     "metadata": {},
     "output_type": "execute_result"
    }
   ],
   "source": [
    "l_1 = [10, 4, 3, 8, 4, 2, 6]\n",
    "\n",
    "def switch(lst, idx1,idx2,idx3):\n",
    "    lst[idx1], lst[idx2], lst[idx3] = lst[idx3], lst[idx1], lst[idx2]\n",
    "    return lst\n",
    "switch(l_1, 0,1,2)"
   ]
  },
  {
   "cell_type": "markdown",
   "metadata": {},
   "source": [
    "## Two Pointers"
   ]
  },
  {
   "cell_type": "markdown",
   "metadata": {},
   "source": [
    "#### Syntax"
   ]
  },
  {
   "cell_type": "code",
   "execution_count": 16,
   "metadata": {},
   "outputs": [
    {
     "name": "stdout",
     "output_type": "stream",
     "text": [
      "Before swap: [1, 4, 8, 3, 9, 10, 33, 23, 74]\n",
      "[1, 4, 8, 3, 9, 10, 33, 23, 74]\n",
      "[74, 4, 8, 3, 9, 10, 33, 23, 1]\n",
      "[74, 23, 8, 3, 9, 10, 33, 4, 1]\n",
      "[74, 23, 33, 3, 9, 10, 8, 4, 1]\n",
      "[74, 23, 33, 10, 9, 3, 8, 4, 1]\n",
      "After swap: [74, 23, 33, 10, 9, 3, 8, 4, 1]\n"
     ]
    }
   ],
   "source": [
    "# Fibonacci Function is a Function that calls itself\n",
    "# alist[left], alist[right] = alist[right], alist[left]\n",
    "# Use two pointer to swap, can use a while loop in most cases\n",
    "\n",
    "def two_pointer_swap(alist):\n",
    "    # Create pointers based on alist\n",
    "    left = 0 #far left index\n",
    "    right = len(alist) - 1 #far right index\n",
    "    print(alist)\n",
    "    while left < right:\n",
    "        alist[left], alist[right] = alist[right], alist[left]\n",
    "        print(alist)\n",
    "        left+= 1\n",
    "        right-= 1\n",
    "        \n",
    "    return alist\n",
    "\n",
    "my_test_list = [1,4,8,3,9,10,33,23,74]\n",
    "print(f'Before swap: {my_test_list}')\n",
    "two_pointer_swap(my_test_list)\n",
    "print(f'After swap: {my_test_list}')"
   ]
  },
  {
   "cell_type": "markdown",
   "metadata": {},
   "source": [
    "#### Video of Algorithms <br>\n",
    "<p>Watch the video about algorithms.</p>\n",
    "\n",
    "https://www.youtube.com/watch?v=Q9HjeFD62Uk\n",
    "\n",
    "https://www.youtube.com/watch?v=kPRA0W1kECg\n",
    "\n",
    "https://www.youtube.com/watch?v=ZZuD6iUe3Pc"
   ]
  },
  {
   "cell_type": "markdown",
   "metadata": {},
   "source": [
    "# Sorting Algorithms"
   ]
  },
  {
   "cell_type": "code",
   "execution_count": 17,
   "metadata": {},
   "outputs": [],
   "source": [
    "# Best case: O(n) - Linear\n",
    "\n",
    "def swap(alist,a,b):\n",
    "    alist[a], alist[b] = alist[b], alist[a]\n",
    "    \n",
    "def bubble_sort(alist):\n",
    "    # Assune the list is unsorted\n",
    "    is_sorted = False \n",
    "    # While the list is unsorted, continue loop\n",
    "    while not is_sorted:\n",
    "        # Set is_sorted variable to True while we check if sorted\n",
    "        is_sorted = True \n",
    "        \n",
    "        # Loop through our list by the index \n",
    "        for idx in range(len(alist)-1):\n",
    "            # If element at idx is larger than element directly to the right\n",
    "            if alist[idx] > alist[idx+1]:\n",
    "                # Swap elements\n",
    "                swap(alist,idx,idx+1)\n",
    "                # set is_sorted to false so while loop will need to rerun\n",
    "                is_sorted = False \n",
    "    return alist"
   ]
  },
  {
   "cell_type": "code",
   "execution_count": 18,
   "metadata": {},
   "outputs": [
    {
     "data": {
      "text/plain": [
       "[1, 2, 3, 4, 5]"
      ]
     },
     "execution_count": 18,
     "metadata": {},
     "output_type": "execute_result"
    }
   ],
   "source": [
    "bubble_sort([1,2,3,5,4])"
   ]
  },
  {
   "cell_type": "markdown",
   "metadata": {},
   "source": [
    "#### Bubble Sort\n",
    "\n",
    "Worst Case: O(n^2) Time - O(1) Space"
   ]
  },
  {
   "cell_type": "code",
   "execution_count": 21,
   "metadata": {},
   "outputs": [
    {
     "ename": "NameError",
     "evalue": "name 'myList' is not defined",
     "output_type": "error",
     "traceback": [
      "\u001b[0;31m---------------------------------------------------------------------------\u001b[0m",
      "\u001b[0;31mNameError\u001b[0m                                 Traceback (most recent call last)",
      "\u001b[0;32m<ipython-input-21-34205321469c>\u001b[0m in \u001b[0;36m<module>\u001b[0;34m\u001b[0m\n\u001b[1;32m     13\u001b[0m \u001b[0;34m\u001b[0m\u001b[0m\n\u001b[1;32m     14\u001b[0m \u001b[0mmy_list\u001b[0m \u001b[0;34m=\u001b[0m \u001b[0;34m[\u001b[0m\u001b[0;36m22\u001b[0m\u001b[0;34m,\u001b[0m\u001b[0;36m55\u001b[0m\u001b[0;34m,\u001b[0m\u001b[0;36m88\u001b[0m\u001b[0;34m,\u001b[0m\u001b[0;36m44\u001b[0m\u001b[0;34m,\u001b[0m\u001b[0;36m1\u001b[0m\u001b[0;34m,\u001b[0m\u001b[0;36m100\u001b[0m\u001b[0;34m,\u001b[0m\u001b[0;36m34\u001b[0m\u001b[0;34m,\u001b[0m\u001b[0;36m66\u001b[0m\u001b[0;34m]\u001b[0m\u001b[0;34m\u001b[0m\u001b[0;34m\u001b[0m\u001b[0m\n\u001b[0;32m---> 15\u001b[0;31m \u001b[0mbubbleSort\u001b[0m\u001b[0;34m(\u001b[0m\u001b[0mmyList\u001b[0m\u001b[0;34m)\u001b[0m\u001b[0;34m\u001b[0m\u001b[0;34m\u001b[0m\u001b[0m\n\u001b[0m\u001b[1;32m     16\u001b[0m \u001b[0mprint\u001b[0m\u001b[0;34m(\u001b[0m\u001b[0mmyList\u001b[0m\u001b[0;34m)\u001b[0m\u001b[0;34m\u001b[0m\u001b[0;34m\u001b[0m\u001b[0m\n",
      "\u001b[0;31mNameError\u001b[0m: name 'myList' is not defined"
     ]
    }
   ],
   "source": [
    "def bubbleSort(arr):\n",
    "    n = len(arr)\n",
    "    # Traverse through all array elements\n",
    "    for i in range(n-1):\n",
    "        # range(n) also work but outer loop will repeat one time more than needed.\n",
    "        # Last i elements are already in place\n",
    "        for j in range(0, n-i-1):\n",
    "            # traverse the array from 0 to n-i-1\n",
    "            # Swap if the element found is greater\n",
    "            # than the next element\n",
    "            if arr[j] > arr[j+1]:\n",
    "                arr[j], arr[j+1] = arr[j+1], arr[j]\n",
    "                \n",
    "my_list = [22,55,88,44,1,100,34,66]\n",
    "bubbleSort(myList)\n",
    "print(myList)"
   ]
  },
  {
   "cell_type": "markdown",
   "metadata": {},
   "source": [
    "##### Insertion Sort\n",
    "\n",
    "Worst Case: O(n^2) time - O(1)space"
   ]
  },
  {
   "cell_type": "code",
   "execution_count": 22,
   "metadata": {},
   "outputs": [
    {
     "data": {
      "text/plain": [
       "[11, 22, 33, 77, 88, 99]"
      ]
     },
     "execution_count": 22,
     "metadata": {},
     "output_type": "execute_result"
    }
   ],
   "source": [
    "def insertion_sort(alist):\n",
    "    for i in range(1,len(alist)):\n",
    "        j = i \n",
    "        while j > 0 and alist[j] < alist[j-1]:\n",
    "            alist[j], alist[j-1] = alist[j-1], alist[j]\n",
    "            j -=1\n",
    "    return alist \n",
    "insertion_sort([77,22,33,88,99,11])"
   ]
  },
  {
   "cell_type": "markdown",
   "metadata": {},
   "source": [
    "## Merge Sort"
   ]
  },
  {
   "cell_type": "markdown",
   "metadata": {},
   "source": [
    "#### How it Works"
   ]
  },
  {
   "cell_type": "code",
   "execution_count": 26,
   "metadata": {},
   "outputs": [
    {
     "name": "stdout",
     "output_type": "stream",
     "text": [
      "Splitting... [1, 2, 3, 4, 5, 6]\n",
      "Splitting... [1, 2, 3]\n",
      "Splitting... [1]\n",
      "Merging... [1]\n",
      "Splitting... [1]\n",
      "Merging... [1]\n",
      "Merging... [1, 2, 3]\n",
      "Splitting... [1, 2, 3]\n",
      "Splitting... [1]\n",
      "Merging... [1]\n",
      "Splitting... [1]\n",
      "Merging... [1]\n",
      "Merging... [1, 2, 3]\n",
      "Merging... [1, 1, 2, 2, 3, 6]\n"
     ]
    },
    {
     "data": {
      "text/plain": [
       "[1, 1, 2, 2, 3, 6]"
      ]
     },
     "execution_count": 26,
     "metadata": {},
     "output_type": "execute_result"
    }
   ],
   "source": [
    "# Step 1: Split everything into it's own group (left and right - down to len ==1)\n",
    "# Step 2: From left to right, merge two groups together \n",
    "# Step 3: While merging, place each item in the correct position in merged group (compare low index of left v right)\n",
    "# Step 4: Continue step 3-4 until one group is left\n",
    "\n",
    "# Write merge sort function \n",
    "\n",
    "def merge_sort(alist):\n",
    "    print(\"Splitting...\", alist)\n",
    "    # Step 1: divide array into equal parts\n",
    "    if len(alist) > 1:\n",
    "        mid = len(alist) // 2\n",
    "        lefthalf = alist[:mid]\n",
    "        righthalf = alist[:mid:]\n",
    "        \n",
    "        # recursively call merge_sort to preform splits if needed\n",
    "        merge_sort(lefthalf)\n",
    "        merge_sort(righthalf)\n",
    "        # then merge once splits are done\n",
    "        \n",
    "        # index pointers for our list \n",
    "        a = 0 # pointer for the left half\n",
    "        b = 0 # pointer for the right half\n",
    "        k = 0 # pointer for the main array\n",
    "        \n",
    "        # Step 2a: Compare the left hand and right half\n",
    "        while a < len(lefthalf) and b < len(righthalf):\n",
    "            if lefthalf[a] < righthalf[b]:\n",
    "                alist[k] = lefthalf[a]\n",
    "                a+=1\n",
    "            \n",
    "            else: \n",
    "                alist[k] = righthalf[b]\n",
    "                b +=1\n",
    "            k +=1\n",
    "        \n",
    "        # Step 2b: Once the one side is done, add other side to main array\n",
    "        \n",
    "        while a < len(lefthalf):\n",
    "            if lefthalf[a] < righthalf[b]:\n",
    "                alist[k] = lefthalf[a]\n",
    "                a+=1\n",
    "            \n",
    "        \n",
    "    print('Merging...', alist)\n",
    "    return alist\n",
    "\n",
    "merge_sort([1,2,3,4,5,6])"
   ]
  },
  {
   "cell_type": "code",
   "execution_count": null,
   "metadata": {},
   "outputs": [],
   "source": [
    "from random import randint\n",
    "\n",
    "nums= [randint(0,20)for i in range(10)]\n",
    "print(nums/)"
   ]
  },
  {
   "cell_type": "markdown",
   "metadata": {},
   "source": [
    "# Binary Search\n",
    "\n",
    "The Binary Search algorithm works by finding the number in the middle of a given array and comparing it to the target. Given that the array is sorted\n",
    "\n",
    "* The worst case run time for this algorithm is `O(log(n))`"
   ]
  },
  {
   "cell_type": "code",
   "execution_count": 27,
   "metadata": {},
   "outputs": [
    {
     "data": {
      "text/plain": [
       "'The index for 88 is: 6'"
      ]
     },
     "execution_count": 27,
     "metadata": {},
     "output_type": "execute_result"
    }
   ],
   "source": [
    "def binary_search(alist, target):\n",
    "    low = 0 \n",
    "    high= len(alist) - 1\n",
    "    while low <= high:\n",
    "        mid = (low + high) //2\n",
    "        potential_match = alist[mid]\n",
    "        if target == potential_match:\n",
    "            return f'The index for {target} is: {mid}'\n",
    "        elif target < potential_match:\n",
    "            high = mid -1\n",
    "        else: \n",
    "            low = mid +1\n",
    "    return -1\n",
    "binary_search([22,33,44,55,66,77,88,99], 88)"
   ]
  },
  {
   "cell_type": "markdown",
   "metadata": {},
   "source": [
    "# Exercises"
   ]
  },
  {
   "cell_type": "markdown",
   "metadata": {},
   "source": [
    "### Exercise #1 <br>\n",
    "<p>Reverse the list below in-place using an in-place algorithm.<br>For extra credit: Reverse the strings at the same time.</p>"
   ]
  },
  {
   "cell_type": "code",
   "execution_count": 4,
   "metadata": {},
   "outputs": [
    {
     "data": {
      "text/plain": [
       "['.', 'sentence', 'a', 'is', 'this']"
      ]
     },
     "execution_count": 4,
     "metadata": {},
     "output_type": "execute_result"
    }
   ],
   "source": [
    "words = ['this' , 'is', 'a', 'sentence', '.']\n",
    "\n",
    "def reverse_list(word_list):\n",
    "    left = 0 \n",
    "    right = len(word_list) - 1\n",
    "    while left <= right:\n",
    "        word_list[left], word_list[right] = word_list[right], word_list[left]\n",
    "        left += 1\n",
    "        right -= 1\n",
    "    return word_list\n",
    "    \n",
    "reverse_list(words)"
   ]
  },
  {
   "cell_type": "markdown",
   "metadata": {},
   "source": [
    "### Exercise #2 <br>\n",
    "<p>Create a function that counts how many distinct words are in the string below, then outputs a dictionary with the words as the key and the value as the amount of times that word appears in the string.<br>Should output:<br>{'a': 5,<br>\n",
    " 'abstract': 1,<br>\n",
    " 'an': 3,<br>\n",
    " 'array': 2, ... etc...</p>"
   ]
  },
  {
   "cell_type": "code",
   "execution_count": 7,
   "metadata": {},
   "outputs": [
    {
     "data": {
      "text/plain": [
       "{'in': 1,\n",
       " 'computing,': 1,\n",
       " 'a': 5,\n",
       " 'hash': 4,\n",
       " 'table': 2,\n",
       " 'map': 2,\n",
       " 'is': 1,\n",
       " 'data': 2,\n",
       " 'structure': 2,\n",
       " 'which': 2,\n",
       " 'implements': 1,\n",
       " 'an': 3,\n",
       " 'associative': 1,\n",
       " 'array': 2,\n",
       " 'abstract': 1,\n",
       " 'type,': 1,\n",
       " 'that': 1,\n",
       " 'can': 2,\n",
       " 'keys': 1,\n",
       " 'to': 2,\n",
       " 'values.': 1,\n",
       " 'uses': 1,\n",
       " 'function': 1,\n",
       " 'compute': 1,\n",
       " 'index': 1,\n",
       " 'into': 1,\n",
       " 'of': 1,\n",
       " 'buckets': 1,\n",
       " 'or': 1,\n",
       " 'slots': 1,\n",
       " 'from': 1,\n",
       " 'the': 1,\n",
       " 'desired': 1,\n",
       " 'value': 1,\n",
       " 'be': 1,\n",
       " 'found': 1}"
      ]
     },
     "execution_count": 7,
     "metadata": {},
     "output_type": "execute_result"
    }
   ],
   "source": [
    "a_text = 'In computing, a hash table hash map is a data structure which implements an associative array abstract data type, a structure that can map keys to values. A hash table uses a hash function to compute an index into an array of buckets or slots from which the desired value can be found'\n",
    "\n",
    "# Categorizing each word in a dictionary and measuring the frequency each word is used\n",
    "def countwords(sentence):\n",
    "    worddict = {}\n",
    "    for word in sentence.split():\n",
    "        word = word.lower()\n",
    "        if word in worddict:\n",
    "            worddict[word] +=1\n",
    "        else: \n",
    "            worddict[word]= 1\n",
    "    return worddict\n",
    "        \n",
    "        \n",
    "countwords(a_text)"
   ]
  },
  {
   "cell_type": "code",
   "execution_count": 8,
   "metadata": {},
   "outputs": [
    {
     "ename": "AttributeError",
     "evalue": "'str' object has no attribute 'string'",
     "output_type": "error",
     "traceback": [
      "\u001b[0;31m---------------------------------------------------------------------------\u001b[0m",
      "\u001b[0;31mAttributeError\u001b[0m                            Traceback (most recent call last)",
      "\u001b[0;32m<ipython-input-8-03543ce0193e>\u001b[0m in \u001b[0;36m<module>\u001b[0;34m\u001b[0m\n\u001b[0;32m----> 1\u001b[0;31m \u001b[0ma_text\u001b[0m\u001b[0;34m.\u001b[0m\u001b[0mstring\u001b[0m\u001b[0;34m(\u001b[0m\u001b[0;34m)\u001b[0m\u001b[0;34m\u001b[0m\u001b[0;34m\u001b[0m\u001b[0m\n\u001b[0m",
      "\u001b[0;31mAttributeError\u001b[0m: 'str' object has no attribute 'string'"
     ]
    }
   ],
   "source": [
    "a_text.lower().split()"
   ]
  },
  {
   "cell_type": "code",
   "execution_count": null,
   "metadata": {},
   "outputs": [],
   "source": [
    "from collection import Counter\n",
    "\n",
    "def count(string)"
   ]
  },
  {
   "cell_type": "markdown",
   "metadata": {},
   "source": [
    "## Exercise #3\n",
    "\n",
    "Write a program to implement a Linear Search Algorithm. Also in a comment, write the Time Complexity of the following algorithm.\n",
    "\n",
    "#### Hint: Linear Searching will require searching a list for a given number. "
   ]
  },
  {
   "cell_type": "code",
   "execution_count": 10,
   "metadata": {},
   "outputs": [
    {
     "data": {
      "text/plain": [
       "'The index for 14 is ...5'"
      ]
     },
     "execution_count": 10,
     "metadata": {},
     "output_type": "execute_result"
    }
   ],
   "source": [
    "numberlist = [10,23,45,70,11,14]\n",
    "target = 70\n",
    "\n",
    "def linearsearch(alist, target):\n",
    "    for i in range(len(alist)):\n",
    "        if alist[i] == target:\n",
    "            return f'The index for {target} is ...{i}'\n",
    "    return -1\n",
    "linearsearch(numberlist,14)\n",
    "\n",
    "# Time complexity of a linear search algorithm is 0(n) (worst case) / 0(1) (best case)"
   ]
  },
  {
   "cell_type": "code",
   "execution_count": null,
   "metadata": {},
   "outputs": [],
   "source": []
  }
 ],
 "metadata": {
  "kernelspec": {
   "display_name": "Python 3",
   "language": "python",
   "name": "python3"
  },
  "language_info": {
   "codemirror_mode": {
    "name": "ipython",
    "version": 3
   },
   "file_extension": ".py",
   "mimetype": "text/x-python",
   "name": "python",
   "nbconvert_exporter": "python",
   "pygments_lexer": "ipython3",
   "version": "3.8.5"
  }
 },
 "nbformat": 4,
 "nbformat_minor": 2
}
